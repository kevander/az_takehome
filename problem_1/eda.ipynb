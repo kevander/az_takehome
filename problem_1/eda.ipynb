{
 "cells": [
  {
   "cell_type": "code",
   "execution_count": 2,
   "metadata": {
    "vscode": {
     "languageId": "r"
    }
   },
   "outputs": [
    {
     "name": "stderr",
     "output_type": "stream",
     "text": [
      "-- \u001b[1mAttaching core tidyverse packages\u001b[22m ------------------------ tidyverse 2.0.0 --\n",
      "\u001b[32mv\u001b[39m \u001b[34mdplyr    \u001b[39m 1.1.4     \u001b[32mv\u001b[39m \u001b[34mreadr    \u001b[39m 2.1.5\n",
      "\u001b[32mv\u001b[39m \u001b[34mforcats  \u001b[39m 1.0.0     \u001b[32mv\u001b[39m \u001b[34mstringr  \u001b[39m 1.5.1\n",
      "\u001b[32mv\u001b[39m \u001b[34mggplot2  \u001b[39m 3.5.1     \u001b[32mv\u001b[39m \u001b[34mtibble   \u001b[39m 3.2.1\n",
      "\u001b[32mv\u001b[39m \u001b[34mlubridate\u001b[39m 1.9.4     \u001b[32mv\u001b[39m \u001b[34mtidyr    \u001b[39m 1.3.1\n",
      "\u001b[32mv\u001b[39m \u001b[34mpurrr    \u001b[39m 1.0.4     \n",
      "-- \u001b[1mConflicts\u001b[22m ------------------------------------------ tidyverse_conflicts() --\n",
      "\u001b[31mx\u001b[39m \u001b[34mdplyr\u001b[39m::\u001b[32mfilter()\u001b[39m masks \u001b[34mstats\u001b[39m::filter()\n",
      "\u001b[31mx\u001b[39m \u001b[34mdplyr\u001b[39m::\u001b[32mlag()\u001b[39m    masks \u001b[34mstats\u001b[39m::lag()\n",
      "\u001b[36mi\u001b[39m Use the conflicted package (\u001b[3m\u001b[34m<http://conflicted.r-lib.org/>\u001b[39m\u001b[23m) to force all conflicts to become errors\n"
     ]
    },
    {
     "ename": "ERROR",
     "evalue": "Error in library(gt): there is no package called 'gt'\n",
     "output_type": "error",
     "traceback": [
      "Error in library(gt): there is no package called 'gt'\nTraceback:\n",
      "1. stop(packageNotFoundError(package, lib.loc, sys.call()))"
     ]
    }
   ],
   "source": [
    "library(hce, warn.conflicts = FALSE)\n",
    "library(tidyverse)\n",
    "library(gt)\n",
    "library(survival)\n",
    "# see what is being loaded by hce package\n",
    "objects('package:hce')"
   ]
  },
  {
   "cell_type": "code",
   "execution_count": 3,
   "metadata": {
    "vscode": {
     "languageId": "r"
    }
   },
   "outputs": [
    {
     "data": {
      "text/html": [
       "<table class=\"dataframe\">\n",
       "<caption>A data.frame: 6 x 6</caption>\n",
       "<thead>\n",
       "\t<tr><th></th><th scope=col>ID</th><th scope=col>AVAL</th><th scope=col>PARAM</th><th scope=col>PARAMCD</th><th scope=col>PARAMN</th><th scope=col>TRTPN</th></tr>\n",
       "\t<tr><th></th><th scope=col>&lt;int&gt;</th><th scope=col>&lt;dbl&gt;</th><th scope=col>&lt;chr&gt;</th><th scope=col>&lt;chr&gt;</th><th scope=col>&lt;int&gt;</th><th scope=col>&lt;int&gt;</th></tr>\n",
       "</thead>\n",
       "<tbody>\n",
       "\t<tr><th scope=row>1</th><td>11</td><td>359</td><td><span style=white-space:pre-wrap>Sustained &gt;=50% decline in eGFR   </span></td><td>EGFR50</td><td>5</td><td>2</td></tr>\n",
       "\t<tr><th scope=row>2</th><td>11</td><td>467</td><td><span style=white-space:pre-wrap>Sustained &gt;=57% decline in eGFR   </span></td><td>EGFR57</td><td>4</td><td>2</td></tr>\n",
       "\t<tr><th scope=row>3</th><td>11</td><td>359</td><td><span style=white-space:pre-wrap>Sustained &gt;=40% decline in eGFR   </span></td><td>EGFR40</td><td>6</td><td>2</td></tr>\n",
       "\t<tr><th scope=row>4</th><td>11</td><td>841</td><td>Sustained eGFR&lt;15 (mL/min/1.73 m2)</td><td>EGFR15</td><td>3</td><td>2</td></tr>\n",
       "\t<tr><th scope=row>5</th><td>15</td><td>962</td><td>Death (adj)                       </td><td>DTHADJ</td><td>1</td><td>1</td></tr>\n",
       "\t<tr><th scope=row>6</th><td>21</td><td>737</td><td><span style=white-space:pre-wrap>Sustained &gt;=40% decline in eGFR   </span></td><td>EGFR40</td><td>6</td><td>1</td></tr>\n",
       "</tbody>\n",
       "</table>\n"
      ],
      "text/latex": [
       "A data.frame: 6 x 6\n",
       "\\begin{tabular}{r|llllll}\n",
       "  & ID & AVAL & PARAM & PARAMCD & PARAMN & TRTPN\\\\\n",
       "  & <int> & <dbl> & <chr> & <chr> & <int> & <int>\\\\\n",
       "\\hline\n",
       "\t1 & 11 & 359 & Sustained >=50\\% decline in eGFR    & EGFR50 & 5 & 2\\\\\n",
       "\t2 & 11 & 467 & Sustained >=57\\% decline in eGFR    & EGFR57 & 4 & 2\\\\\n",
       "\t3 & 11 & 359 & Sustained >=40\\% decline in eGFR    & EGFR40 & 6 & 2\\\\\n",
       "\t4 & 11 & 841 & Sustained eGFR<15 (mL/min/1.73 m2) & EGFR15 & 3 & 2\\\\\n",
       "\t5 & 15 & 962 & Death (adj)                        & DTHADJ & 1 & 1\\\\\n",
       "\t6 & 21 & 737 & Sustained >=40\\% decline in eGFR    & EGFR40 & 6 & 1\\\\\n",
       "\\end{tabular}\n"
      ],
      "text/markdown": [
       "\n",
       "A data.frame: 6 x 6\n",
       "\n",
       "| <!--/--> | ID &lt;int&gt; | AVAL &lt;dbl&gt; | PARAM &lt;chr&gt; | PARAMCD &lt;chr&gt; | PARAMN &lt;int&gt; | TRTPN &lt;int&gt; |\n",
       "|---|---|---|---|---|---|---|\n",
       "| 1 | 11 | 359 | Sustained &gt;=50% decline in eGFR    | EGFR50 | 5 | 2 |\n",
       "| 2 | 11 | 467 | Sustained &gt;=57% decline in eGFR    | EGFR57 | 4 | 2 |\n",
       "| 3 | 11 | 359 | Sustained &gt;=40% decline in eGFR    | EGFR40 | 6 | 2 |\n",
       "| 4 | 11 | 841 | Sustained eGFR&lt;15 (mL/min/1.73 m2) | EGFR15 | 3 | 2 |\n",
       "| 5 | 15 | 962 | Death (adj)                        | DTHADJ | 1 | 1 |\n",
       "| 6 | 21 | 737 | Sustained &gt;=40% decline in eGFR    | EGFR40 | 6 | 1 |\n",
       "\n"
      ],
      "text/plain": [
       "  ID AVAL PARAM                              PARAMCD PARAMN TRTPN\n",
       "1 11 359  Sustained >=50% decline in eGFR    EGFR50  5      2    \n",
       "2 11 467  Sustained >=57% decline in eGFR    EGFR57  4      2    \n",
       "3 11 359  Sustained >=40% decline in eGFR    EGFR40  6      2    \n",
       "4 11 841  Sustained eGFR<15 (mL/min/1.73 m2) EGFR15  3      2    \n",
       "5 15 962  Death (adj)                        DTHADJ  1      1    \n",
       "6 21 737  Sustained >=40% decline in eGFR    EGFR40  6      1    "
      ]
     },
     "metadata": {},
     "output_type": "display_data"
    },
    {
     "data": {
      "text/html": [
       "<table class=\"dataframe\">\n",
       "<caption>A data.frame: 6 x 8</caption>\n",
       "<thead>\n",
       "\t<tr><th></th><th scope=col>ID</th><th scope=col>TRTPN</th><th scope=col>AVAL</th><th scope=col>ADAY</th><th scope=col>AVISITN</th><th scope=col>PARAM</th><th scope=col>PARAMCD</th><th scope=col>PARAMN</th></tr>\n",
       "\t<tr><th></th><th scope=col>&lt;int&gt;</th><th scope=col>&lt;int&gt;</th><th scope=col>&lt;int&gt;</th><th scope=col>&lt;dbl&gt;</th><th scope=col>&lt;int&gt;</th><th scope=col>&lt;chr&gt;</th><th scope=col>&lt;chr&gt;</th><th scope=col>&lt;int&gt;</th></tr>\n",
       "</thead>\n",
       "<tbody>\n",
       "\t<tr><th scope=row>1</th><td>1</td><td>1</td><td>40</td><td>357</td><td> 7</td><td>eGFR measurements</td><td>eGFR</td><td>7</td></tr>\n",
       "\t<tr><th scope=row>2</th><td>1</td><td>1</td><td>49</td><td>119</td><td> 5</td><td>eGFR measurements</td><td>eGFR</td><td>7</td></tr>\n",
       "\t<tr><th scope=row>3</th><td>1</td><td>1</td><td>41</td><td>238</td><td> 6</td><td>eGFR measurements</td><td>eGFR</td><td>7</td></tr>\n",
       "\t<tr><th scope=row>4</th><td>1</td><td>1</td><td>36</td><td>469</td><td> 8</td><td>eGFR measurements</td><td>eGFR</td><td>7</td></tr>\n",
       "\t<tr><th scope=row>5</th><td>1</td><td>1</td><td>40</td><td>721</td><td>10</td><td>eGFR measurements</td><td>eGFR</td><td>7</td></tr>\n",
       "\t<tr><th scope=row>6</th><td>1</td><td>1</td><td>34</td><td>602</td><td> 9</td><td>eGFR measurements</td><td>eGFR</td><td>7</td></tr>\n",
       "</tbody>\n",
       "</table>\n"
      ],
      "text/latex": [
       "A data.frame: 6 x 8\n",
       "\\begin{tabular}{r|llllllll}\n",
       "  & ID & TRTPN & AVAL & ADAY & AVISITN & PARAM & PARAMCD & PARAMN\\\\\n",
       "  & <int> & <int> & <int> & <dbl> & <int> & <chr> & <chr> & <int>\\\\\n",
       "\\hline\n",
       "\t1 & 1 & 1 & 40 & 357 &  7 & eGFR measurements & eGFR & 7\\\\\n",
       "\t2 & 1 & 1 & 49 & 119 &  5 & eGFR measurements & eGFR & 7\\\\\n",
       "\t3 & 1 & 1 & 41 & 238 &  6 & eGFR measurements & eGFR & 7\\\\\n",
       "\t4 & 1 & 1 & 36 & 469 &  8 & eGFR measurements & eGFR & 7\\\\\n",
       "\t5 & 1 & 1 & 40 & 721 & 10 & eGFR measurements & eGFR & 7\\\\\n",
       "\t6 & 1 & 1 & 34 & 602 &  9 & eGFR measurements & eGFR & 7\\\\\n",
       "\\end{tabular}\n"
      ],
      "text/markdown": [
       "\n",
       "A data.frame: 6 x 8\n",
       "\n",
       "| <!--/--> | ID &lt;int&gt; | TRTPN &lt;int&gt; | AVAL &lt;int&gt; | ADAY &lt;dbl&gt; | AVISITN &lt;int&gt; | PARAM &lt;chr&gt; | PARAMCD &lt;chr&gt; | PARAMN &lt;int&gt; |\n",
       "|---|---|---|---|---|---|---|---|---|\n",
       "| 1 | 1 | 1 | 40 | 357 |  7 | eGFR measurements | eGFR | 7 |\n",
       "| 2 | 1 | 1 | 49 | 119 |  5 | eGFR measurements | eGFR | 7 |\n",
       "| 3 | 1 | 1 | 41 | 238 |  6 | eGFR measurements | eGFR | 7 |\n",
       "| 4 | 1 | 1 | 36 | 469 |  8 | eGFR measurements | eGFR | 7 |\n",
       "| 5 | 1 | 1 | 40 | 721 | 10 | eGFR measurements | eGFR | 7 |\n",
       "| 6 | 1 | 1 | 34 | 602 |  9 | eGFR measurements | eGFR | 7 |\n",
       "\n"
      ],
      "text/plain": [
       "  ID TRTPN AVAL ADAY AVISITN PARAM             PARAMCD PARAMN\n",
       "1 1  1     40   357   7      eGFR measurements eGFR    7     \n",
       "2 1  1     49   119   5      eGFR measurements eGFR    7     \n",
       "3 1  1     41   238   6      eGFR measurements eGFR    7     \n",
       "4 1  1     36   469   8      eGFR measurements eGFR    7     \n",
       "5 1  1     40   721  10      eGFR measurements eGFR    7     \n",
       "6 1  1     34   602   9      eGFR measurements eGFR    7     "
      ]
     },
     "metadata": {},
     "output_type": "display_data"
    },
    {
     "data": {
      "text/html": [
       "<table class=\"dataframe\">\n",
       "<caption>A data.frame: 6 x 4</caption>\n",
       "<thead>\n",
       "\t<tr><th></th><th scope=col>ID</th><th scope=col>TRTPN</th><th scope=col>EGFRBL</th><th scope=col>STRATAN</th></tr>\n",
       "\t<tr><th></th><th scope=col>&lt;int&gt;</th><th scope=col>&lt;int&gt;</th><th scope=col>&lt;int&gt;</th><th scope=col>&lt;int&gt;</th></tr>\n",
       "</thead>\n",
       "<tbody>\n",
       "\t<tr><th scope=row>1</th><td>1</td><td>1</td><td>44</td><td>1</td></tr>\n",
       "\t<tr><th scope=row>2</th><td>2</td><td>1</td><td>31</td><td>3</td></tr>\n",
       "\t<tr><th scope=row>3</th><td>3</td><td>1</td><td>28</td><td>4</td></tr>\n",
       "\t<tr><th scope=row>4</th><td>4</td><td>1</td><td>61</td><td>4</td></tr>\n",
       "\t<tr><th scope=row>5</th><td>5</td><td>1</td><td>37</td><td>4</td></tr>\n",
       "\t<tr><th scope=row>6</th><td>6</td><td>2</td><td>35</td><td>1</td></tr>\n",
       "</tbody>\n",
       "</table>\n"
      ],
      "text/latex": [
       "A data.frame: 6 x 4\n",
       "\\begin{tabular}{r|llll}\n",
       "  & ID & TRTPN & EGFRBL & STRATAN\\\\\n",
       "  & <int> & <int> & <int> & <int>\\\\\n",
       "\\hline\n",
       "\t1 & 1 & 1 & 44 & 1\\\\\n",
       "\t2 & 2 & 1 & 31 & 3\\\\\n",
       "\t3 & 3 & 1 & 28 & 4\\\\\n",
       "\t4 & 4 & 1 & 61 & 4\\\\\n",
       "\t5 & 5 & 1 & 37 & 4\\\\\n",
       "\t6 & 6 & 2 & 35 & 1\\\\\n",
       "\\end{tabular}\n"
      ],
      "text/markdown": [
       "\n",
       "A data.frame: 6 x 4\n",
       "\n",
       "| <!--/--> | ID &lt;int&gt; | TRTPN &lt;int&gt; | EGFRBL &lt;int&gt; | STRATAN &lt;int&gt; |\n",
       "|---|---|---|---|---|\n",
       "| 1 | 1 | 1 | 44 | 1 |\n",
       "| 2 | 2 | 1 | 31 | 3 |\n",
       "| 3 | 3 | 1 | 28 | 4 |\n",
       "| 4 | 4 | 1 | 61 | 4 |\n",
       "| 5 | 5 | 1 | 37 | 4 |\n",
       "| 6 | 6 | 2 | 35 | 1 |\n",
       "\n"
      ],
      "text/plain": [
       "  ID TRTPN EGFRBL STRATAN\n",
       "1 1  1     44     1      \n",
       "2 2  1     31     3      \n",
       "3 3  1     28     4      \n",
       "4 4  1     61     4      \n",
       "5 5  1     37     4      \n",
       "6 6  2     35     1      "
      ]
     },
     "metadata": {},
     "output_type": "display_data"
    }
   ],
   "source": [
    "# Events\n",
    "head(ADET)\n",
    "# Follow up\n",
    "head(ADLB)\n",
    "# Baseline\n",
    "head(ADSL)"
   ]
  },
  {
   "cell_type": "code",
   "execution_count": 4,
   "metadata": {
    "vscode": {
     "languageId": "r"
    }
   },
   "outputs": [
    {
     "data": {
      "text/html": [
       "<style>\n",
       ".list-inline {list-style: none; margin:0; padding: 0}\n",
       ".list-inline>li {display: inline-block}\n",
       ".list-inline>li:not(:last-child)::after {content: \"\\00b7\"; padding: 0 .5ex}\n",
       "</style>\n",
       "<ol class=list-inline><li>2</li><li>3</li><li>4</li><li>5</li><li>6</li><li>7</li><li>8</li><li>9</li><li>10</li><li>11</li><li>12</li><li>13</li></ol>\n"
      ],
      "text/latex": [
       "\\begin{enumerate*}\n",
       "\\item 2\n",
       "\\item 3\n",
       "\\item 4\n",
       "\\item 5\n",
       "\\item 6\n",
       "\\item 7\n",
       "\\item 8\n",
       "\\item 9\n",
       "\\item 10\n",
       "\\item 11\n",
       "\\item 12\n",
       "\\item 13\n",
       "\\end{enumerate*}\n"
      ],
      "text/markdown": [
       "1. 2\n",
       "2. 3\n",
       "3. 4\n",
       "4. 5\n",
       "5. 6\n",
       "6. 7\n",
       "7. 8\n",
       "8. 9\n",
       "9. 10\n",
       "10. 11\n",
       "11. 12\n",
       "12. 13\n",
       "\n",
       "\n"
      ],
      "text/plain": [
       " [1]  2  3  4  5  6  7  8  9 10 11 12 13"
      ]
     },
     "metadata": {},
     "output_type": "display_data"
    }
   ],
   "source": [
    "# Follow-up visits\n",
    "sort(unique(ADLB$AVISITN))"
   ]
  }
 ],
 "metadata": {
  "kernelspec": {
   "display_name": "R",
   "language": "R",
   "name": "ir"
  },
  "language_info": {
   "codemirror_mode": "r",
   "file_extension": ".r",
   "mimetype": "text/x-r-source",
   "name": "R",
   "pygments_lexer": "r",
   "version": "4.4.3"
  }
 },
 "nbformat": 4,
 "nbformat_minor": 2
}
